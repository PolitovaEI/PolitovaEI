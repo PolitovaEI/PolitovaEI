{
 "cells": [
  {
   "cell_type": "code",
   "execution_count": 9,
   "metadata": {},
   "outputs": [
    {
     "name": "stdout",
     "output_type": "stream",
     "text": [
      "A number to divide: 54\n",
      "[1, 2, 3, 6, 9, 18, 27, 54]\n"
     ]
    }
   ],
   "source": [
    "#divisors of the number\n",
    "\n",
    "n = int(input(\"A number to divide: \"))\n",
    "\n",
    "listRange = list(range(1,n+1))\n",
    "\n",
    "List = []\n",
    "\n",
    "for number in listRange:\n",
    "    if n % number == 0:\n",
    "        List.append(number)\n",
    "\n",
    "print(List)"
   ]
  },
  {
   "cell_type": "code",
   "execution_count": 22,
   "metadata": {},
   "outputs": [
    {
     "name": "stdout",
     "output_type": "stream",
     "text": [
      "Your name: Helen\n",
      "Your age: 20\n",
      "Helen will be 100 years old in the year 2099\n"
     ]
    }
   ],
   "source": [
    "#character \n",
    "\n",
    "name = input(\"Your name: \")\n",
    "age = int(input(\"Your age: \"))\n",
    "print(name + \" will be 100 years old in the year \" + str((2019 - age)+100))"
   ]
  },
  {
   "cell_type": "code",
   "execution_count": 12,
   "metadata": {},
   "outputs": [
    {
     "name": "stdout",
     "output_type": "stream",
     "text": [
      "What's your guess?67\n",
      "Too high\n",
      "What's your guess?8\n",
      "Too low\n",
      "What's your guess?7\n",
      "Too low\n",
      "What's your guess?6\n",
      "Too low\n",
      "What's your guess?9\n",
      "You are right\n",
      "And it only took you 5 tries\n"
     ]
    }
   ],
   "source": [
    "# guess the number\n",
    "\n",
    "import random\n",
    "\n",
    "number = random.randint(1,9)\n",
    "guess = 0\n",
    "count = 0\n",
    "\n",
    "while guess != number and guess != \"exit\":\n",
    "    guess = input(\"What's your guess?\")\n",
    "    \n",
    "    if guess == \"exit\":\n",
    "        break\n",
    "    \n",
    "    guess = int(guess)\n",
    "    count += 1\n",
    "    \n",
    "    if guess < number:\n",
    "        print(\"Too low\")\n",
    "    elif guess > number:\n",
    "        print(\"Too high\")\n",
    "    else:\n",
    "        print(\"You are right\")\n",
    "        print(\"And it only took you\",count,\"tries\")"
   ]
  },
  {
   "cell_type": "code",
   "execution_count": 23,
   "metadata": {},
   "outputs": [
    {
     "name": "stdout",
     "output_type": "stream",
     "text": [
      "the length of the password 10\n",
      "ph@Z84tC0y\n"
     ]
    }
   ],
   "source": [
    "#generate password\n",
    "\n",
    "import random\n",
    "\n",
    "s = \"abcdefghijklmnopqrstuvwxyz01234567890ABCDEFGHIJKLMNOPQRSTUVWXYZ!@#$%^&*()?\"\n",
    "passlen = int(input(\"the length of the password \"))\n",
    "p =  \"\".join(random.sample(s,passlen ))\n",
    "print (p)\n"
   ]
  },
  {
   "cell_type": "code",
   "execution_count": null,
   "metadata": {},
   "outputs": [],
   "source": []
  }
 ],
 "metadata": {
  "kernelspec": {
   "display_name": "Python 3",
   "language": "python",
   "name": "python3"
  },
  "language_info": {
   "codemirror_mode": {
    "name": "ipython",
    "version": 3
   },
   "file_extension": ".py",
   "mimetype": "text/x-python",
   "name": "python",
   "nbconvert_exporter": "python",
   "pygments_lexer": "ipython3",
   "version": "3.7.1"
  }
 },
 "nbformat": 4,
 "nbformat_minor": 2
}
